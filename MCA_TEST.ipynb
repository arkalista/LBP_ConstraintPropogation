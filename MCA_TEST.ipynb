{
 "cells": [
  {
   "cell_type": "code",
   "execution_count": 1,
   "metadata": {},
   "outputs": [
    {
     "name": "stdout",
     "output_type": "stream",
     "text": [
      "Requirement already satisfied: joblib in /home/alishan/anaconda3/lib/python3.7/site-packages (0.13.1)\r\n"
     ]
    }
   ],
   "source": [
    "!pip install joblib"
   ]
  },
  {
   "cell_type": "code",
   "execution_count": 3,
   "metadata": {},
   "outputs": [
    {
     "name": "stdout",
     "output_type": "stream",
     "text": [
      "<class 'numpy.ndarray'>\n",
      "(4, 4)\n"
     ]
    }
   ],
   "source": [
    "from scipy import misc\n",
    "import numpy as np\n",
    "import matplotlib.pyplot as plt\n",
    "import scipy.io\n",
    "\n",
    "\n",
    "########## Required for Clean Printing ###########\n",
    "from pprint import pprint\n",
    "\n",
    "########## Required for Parallel Processing ###########\n",
    "\n",
    "from MCAIncludes import *\n",
    "from MCAExec import *\n",
    "\n",
    "########## Require for Image Storage ###################\n",
    "import pickle\n",
    "import sys\n",
    "\n",
    "image= np.array([[20,27,24,26],[16,23,30,32],[22,22,20,19],[22,10,35,19]])\n",
    "print(type(image))\n",
    "print(image.shape)"
   ]
  },
  {
   "cell_type": "code",
   "execution_count": 5,
   "metadata": {},
   "outputs": [
    {
     "name": "stdout",
     "output_type": "stream",
     "text": [
      "[[20 27 24 26]\n",
      " [16 23 30 32]\n",
      " [22 22 20 19]\n",
      " [22 10 35 19]]\n"
     ]
    }
   ],
   "source": [
    "print(image)"
   ]
  },
  {
   "cell_type": "code",
   "execution_count": 6,
   "metadata": {},
   "outputs": [
    {
     "name": "stdout",
     "output_type": "stream",
     "text": [
      "(6, 6)\n",
      "Success L1 generated\n",
      "Success L2 generated\n"
     ]
    },
    {
     "name": "stderr",
     "output_type": "stream",
     "text": [
      "[Parallel(n_jobs=-1)]: Using backend MultiprocessingBackend with 4 concurrent workers.\n",
      "[Parallel(n_jobs=-1)]: Done   3 out of   3 | elapsed:    0.0s finished\n",
      "[Parallel(n_jobs=-1)]: Using backend MultiprocessingBackend with 4 concurrent workers.\n",
      "[Parallel(n_jobs=-1)]: Done   2 out of   2 | elapsed:    0.0s finished\n"
     ]
    },
    {
     "name": "stdout",
     "output_type": "stream",
     "text": [
      "Success L1 generated\n",
      "Success L2 generated\n",
      "Total Time for Parallel Execution is :  0.30937981605529785\n"
     ]
    }
   ],
   "source": [
    "ImgLst = GenerateImageVariations(image)"
   ]
  },
  {
   "cell_type": "code",
   "execution_count": 8,
   "metadata": {},
   "outputs": [
    {
     "name": "stdout",
     "output_type": "stream",
     "text": [
      "[[1. 5. 4. 5.]\n",
      " [0. 3. 6. 7.]\n",
      " [2. 2. 1. 0.]\n",
      " [2. 0. 3. 0.]]\n",
      "10\n"
     ]
    }
   ],
   "source": [
    "print (ImgLst[0])\n",
    "print (len(ImgLst))"
   ]
  },
  {
   "cell_type": "code",
   "execution_count": 10,
   "metadata": {},
   "outputs": [
    {
     "name": "stdout",
     "output_type": "stream",
     "text": [
      "Image Label is : 1\n"
     ]
    },
    {
     "data": {
      "image/png": "[encoded data removed]",
      "text/plain": [
       "<Figure size 432x288 with 12 Axes>"
      ]
     },
     "metadata": {
      "needs_background": "light"
     },
     "output_type": "display_data"
    }
   ],
   "source": [
    "    pass1_Image_Minima = ImgLst[0]\n",
    "    pass2_Image_Minima = ImgLst[1]\n",
    "    min_avg = ImgLst[2]\n",
    "    pass1_Image_Maxima = ImgLst[3]\n",
    "    pass2_Image_Maxima = ImgLst[4]\n",
    "    max_avg = ImgLst[5]\n",
    "    pass1_image_avg = ImgLst[6]\n",
    "    pass2_image_avg = ImgLst[7]\n",
    "    min_max_avg = ImgLst[8]\n",
    "    image = ImgLst[9]\n",
    "    imageLabel = 1\n",
    "\n",
    "    print(\"Image Label is : \"+str(imageLabel))\n",
    "    plt.figure(1)\n",
    "    plt.title(\"Image Label is : \"+str(imageLabel))\n",
    "\n",
    "    ax = plt.subplot(341)\n",
    "    ax.set_title(\"Original Image\",fontsize = 7)\n",
    "    ax.set_axis_off()\n",
    "    ax.imshow(image)\n",
    "\n",
    "    ax = plt.subplot(342)\n",
    "    ax.set_title(\"Pass 1 Minima Image\",fontsize = 7)\n",
    "    ax.set_axis_off()\n",
    "    ax.imshow(pass1_Image_Minima)\n",
    "\n",
    "    ax = plt.subplot(343)\n",
    "    ax.set_title(\"Pass 2 Minima Image\",fontsize = 7)\n",
    "    ax.set_axis_off()\n",
    "    ax.imshow(pass2_Image_Minima)\n",
    "\n",
    "    ax = plt.subplot(344)\n",
    "    ax.set_title(\"Pass 1 & 2 Minima Image\",fontsize = 7)\n",
    "    ax.set_axis_off()\n",
    "    ax.imshow(min_avg)\n",
    "\n",
    "    ax = plt.subplot(345)\n",
    "    ax.set_title(\"Original Image\",fontsize = 7)\n",
    "    ax.set_axis_off()\n",
    "    ax.imshow(image)\n",
    "\n",
    "    ax = plt.subplot(346)\n",
    "    ax.set_title(\"Pass 1 Maxima Image\",fontsize = 7)\n",
    "    ax.set_axis_off()\n",
    "    ax.imshow(pass1_Image_Maxima)\n",
    "\n",
    "    ax = plt.subplot(347)\n",
    "    ax.set_title(\"Pass 2 Maxima Image\",fontsize = 7)\n",
    "    ax.set_axis_off()\n",
    "    ax.imshow(pass2_Image_Maxima)\n",
    "\n",
    "    ax = plt.subplot(348)\n",
    "    ax.set_title(\"Pass 1 & 2 Maxima Image\",fontsize = 7)\n",
    "    ax.set_axis_off()\n",
    "    ax.imshow(max_avg)\n",
    "\n",
    "    ax = plt.subplot(349)\n",
    "    ax.set_title(\"Original Image\",fontsize = 7)\n",
    "    ax.set_axis_off()\n",
    "    ax.imshow(image)\n",
    "\n",
    "    ax = plt.subplot(3,4,10)\n",
    "    ax.set_title(\"Pass 1 Min and Max Image\",fontsize = 7)\n",
    "    ax.set_axis_off()\n",
    "    ax.imshow(pass1_image_avg)\n",
    "\n",
    "    ax = plt.subplot(3,4,11)\n",
    "    ax.set_title(\"Pass 2 Min and Max Image\",fontsize = 7)\n",
    "    ax.set_axis_off()\n",
    "    ax.imshow(pass2_image_avg)\n",
    "\n",
    "    ax = plt.subplot(3,4,12)\n",
    "    ax.set_title(\"Pass 1 & 2 Min and Max Image\",fontsize = 7)\n",
    "    ax.set_axis_off()\n",
    "    ax.imshow(min_max_avg)\n",
    "\n",
    "    plt.show()"
   ]
  },
  {
   "cell_type": "code",
   "execution_count": null,
   "metadata": {
    "collapsed": true
   },
   "outputs": [],
   "source": []
  }
 ],
 "metadata": {
  "kernelspec": {
   "display_name": "Python 3",
   "language": "python",
   "name": "python3"
  },
  "language_info": {
   "codemirror_mode": {
    "name": "ipython",
    "version": 3
   },
   "file_extension": ".py",
   "mimetype": "text/x-python",
   "name": "python",
   "nbconvert_exporter": "python",
   "pygments_lexer": "ipython3",
   "version": "3.7.1"
  }
 },
 "nbformat": 4,
 "nbformat_minor": 2
}
